{
 "cells": [
  {
   "cell_type": "code",
   "execution_count": 1,
   "metadata": {},
   "outputs": [
    {
     "name": "stderr",
     "output_type": "stream",
     "text": [
      "/home/1004chr/.conda/envs/linkefl/lib/python3.10/site-packages/torchvision/io/image.py:13: UserWarning: Failed to load image Python extension: '/home/1004chr/.conda/envs/linkefl/lib/python3.10/site-packages/torchvision/image.so: undefined symbol: _ZN3c1017RegisterOperatorsD1Ev'If you don't plan on using image functionality from `torchvision.io`, you can ignore this warning. Otherwise, there might be something wrong with your environment. Did you have `libjpeg` or `libpng` installed before building `torchvision` from source?\n",
      "  warn(\n",
      "/home/1004chr/.local/lib/python3.10/site-packages/tqdm/auto.py:21: TqdmWarning: IProgress not found. Please update jupyter and ipywidgets. See https://ipywidgets.readthedocs.io/en/stable/user_install.html\n",
      "  from .autonotebook import tqdm as notebook_tqdm\n"
     ]
    },
    {
     "name": "stdout",
     "output_type": "stream",
     "text": [
      "Downloading https://www.cs.toronto.edu/~kriz/cifar-100-python.tar.gz to ./data/cifar-100-python.tar.gz\n"
     ]
    },
    {
     "name": "stderr",
     "output_type": "stream",
     "text": [
      "100%|██████████| 169001437/169001437 [00:29<00:00, 5744829.19it/s]\n"
     ]
    },
    {
     "name": "stdout",
     "output_type": "stream",
     "text": [
      "Extracting ./data/cifar-100-python.tar.gz to ./data\n",
      "Files already downloaded and verified\n",
      "Batch size: 128, Image shape: torch.Size([3, 32, 32]), Labels: tensor([19,  3,  9, 31, 59, 77, 61, 24, 11, 49, 98, 13, 75, 88, 13, 49, 32, 64,\n",
      "         0, 85, 45, 72, 70, 41, 35, 44, 24, 47,  0, 22, 79, 38, 63, 57, 27, 40,\n",
      "        31, 76, 49, 51, 66, 40, 24, 48, 72, 92, 18, 52, 63, 55, 61, 20, 66, 46,\n",
      "        12, 39, 90, 94, 73, 15, 41, 35, 15, 43,  5, 25, 50, 67, 69, 57, 83, 23,\n",
      "        88, 47, 54, 28, 45, 29, 93, 33, 95, 30, 44, 21, 27, 24, 14, 12, 12, 62,\n",
      "        14,  4, 30, 69,  3, 61, 14, 93, 38, 27, 41, 54, 98, 35, 75, 45,  5,  0,\n",
      "        56,  1, 42, 54, 46,  0, 63,  1, 68, 29, 41, 78, 18, 84, 95, 87, 23, 72,\n",
      "        82, 41])\n"
     ]
    }
   ],
   "source": [
    "import torch\n",
    "import torchvision\n",
    "import torchvision.transforms as transforms\n",
    "\n",
    "def download_cifar100(batch_size=128, num_workers=2):\n",
    "    # 数据增强和预处理\n",
    "    transform_train = transforms.Compose([\n",
    "        transforms.RandomCrop(32, padding=4),\n",
    "        transforms.RandomHorizontalFlip(),\n",
    "        transforms.ToTensor(),\n",
    "        transforms.Normalize((0.5071, 0.4867, 0.4408), (0.2675, 0.2565, 0.2761)),\n",
    "    ])\n",
    "\n",
    "    transform_test = transforms.Compose([\n",
    "        transforms.ToTensor(),\n",
    "        transforms.Normalize((0.5071, 0.4867, 0.4408), (0.2675, 0.2565, 0.2761)),\n",
    "    ])\n",
    "\n",
    "    # 下载和加载 CIFAR-100 数据集\n",
    "    trainset = torchvision.datasets.CIFAR100(\n",
    "        root='./data', train=True, download=True, transform=transform_train)\n",
    "    trainloader = torch.utils.data.DataLoader(\n",
    "        trainset, batch_size=batch_size, shuffle=True, num_workers=num_workers)\n",
    "\n",
    "    testset = torchvision.datasets.CIFAR100(\n",
    "        root='./data', train=False, download=True, transform=transform_test)\n",
    "    testloader = torch.utils.data.DataLoader(\n",
    "        testset, batch_size=batch_size, shuffle=False, num_workers=num_workers)\n",
    "\n",
    "    return trainloader, testloader\n",
    "\n",
    "# 示例：下载并加载 CIFAR-100 数据集\n",
    "trainloader, testloader = download_cifar100()\n",
    "\n",
    "# 检查数据集是否正确下载和加载\n",
    "for images, labels in trainloader:\n",
    "    print(f\"Batch size: {images.size(0)}, Image shape: {images.size()[1:]}, Labels: {labels}\")\n",
    "    break"
   ]
  }
 ],
 "metadata": {
  "kernelspec": {
   "display_name": "linkefl",
   "language": "python",
   "name": "python3"
  },
  "language_info": {
   "codemirror_mode": {
    "name": "ipython",
    "version": 3
   },
   "file_extension": ".py",
   "mimetype": "text/x-python",
   "name": "python",
   "nbconvert_exporter": "python",
   "pygments_lexer": "ipython3",
   "version": "3.10.13"
  }
 },
 "nbformat": 4,
 "nbformat_minor": 2
}
